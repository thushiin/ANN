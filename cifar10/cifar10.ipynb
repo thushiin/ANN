{
  "nbformat": 4,
  "nbformat_minor": 0,
  "metadata": {
    "colab": {
      "provenance": [],
      "gpuType": "T4"
    },
    "kernelspec": {
      "name": "python3",
      "display_name": "Python 3"
    },
    "language_info": {
      "name": "python"
    },
    "accelerator": "GPU"
  },
  "cells": [
    {
      "cell_type": "code",
      "execution_count": 56,
      "metadata": {
        "id": "fbCvZAKp_tE1"
      },
      "outputs": [],
      "source": [
        "from tensorflow.keras import datasets\n",
        "import matplotlib.pyplot as plt"
      ]
    },
    {
      "cell_type": "code",
      "source": [
        "(xtrain,ytrain),(xtest,ytest)=datasets.cifar10.load_data()"
      ],
      "metadata": {
        "id": "xtENTkCw__7U"
      },
      "execution_count": 57,
      "outputs": []
    },
    {
      "cell_type": "code",
      "source": [
        "xtrain.shape[0]"
      ],
      "metadata": {
        "colab": {
          "base_uri": "https://localhost:8080/"
        },
        "id": "vNVt2h0OAPlT",
        "outputId": "03f2f686-b4c5-418f-f013-7abffa79b22e"
      },
      "execution_count": 58,
      "outputs": [
        {
          "output_type": "execute_result",
          "data": {
            "text/plain": [
              "50000"
            ]
          },
          "metadata": {},
          "execution_count": 58
        }
      ]
    },
    {
      "cell_type": "code",
      "source": [
        "plt.imshow(xtrain[8])"
      ],
      "metadata": {
        "colab": {
          "base_uri": "https://localhost:8080/",
          "height": 448
        },
        "id": "DPmbb6x6AV6b",
        "outputId": "4ec0f294-a2b8-41ff-b26c-fc57e57f195e"
      },
      "execution_count": 59,
      "outputs": [
        {
          "output_type": "execute_result",
          "data": {
            "text/plain": [
              "<matplotlib.image.AxesImage at 0x7829ece63f70>"
            ]
          },
          "metadata": {},
          "execution_count": 59
        },
        {
          "output_type": "display_data",
          "data": {
            "text/plain": [
              "<Figure size 640x480 with 1 Axes>"
            ],
            "image/png": "[encoded data removed]"
          },
          "metadata": {}
        }
      ]
    },
    {
      "cell_type": "code",
      "source": [
        "plt.figure(figsize=(15,5))\n",
        "plt.imshow(xtrain[5])"
      ],
      "metadata": {
        "colab": {
          "base_uri": "https://localhost:8080/",
          "height": 463
        },
        "id": "gl-_nrfpAgbj",
        "outputId": "51e63820-832c-4038-bd74-ec03e6f2d68e"
      },
      "execution_count": 60,
      "outputs": [
        {
          "output_type": "execute_result",
          "data": {
            "text/plain": [
              "<matplotlib.image.AxesImage at 0x78299c6d9300>"
            ]
          },
          "metadata": {},
          "execution_count": 60
        },
        {
          "output_type": "display_data",
          "data": {
            "text/plain": [
              "<Figure size 1500x500 with 1 Axes>"
            ],
            "image/png": "[encoded data removed]"
          },
          "metadata": {}
        }
      ]
    },
    {
      "cell_type": "code",
      "source": [
        "classes = [\"airplane\",\"automobile\",\"bird\",\"cat\",\"deer\",\"dog\",\"frog\",\"horse\",\"ship\",\"truck\"]"
      ],
      "metadata": {
        "id": "LzlMXYmjAusj"
      },
      "execution_count": 61,
      "outputs": []
    },
    {
      "cell_type": "code",
      "source": [
        "ytrain.shape"
      ],
      "metadata": {
        "colab": {
          "base_uri": "https://localhost:8080/"
        },
        "id": "Cr7Dn-onBECY",
        "outputId": "670c7f36-db31-480d-96f1-5e118852d3f9"
      },
      "execution_count": 62,
      "outputs": [
        {
          "output_type": "execute_result",
          "data": {
            "text/plain": [
              "(50000, 1)"
            ]
          },
          "metadata": {},
          "execution_count": 62
        }
      ]
    },
    {
      "cell_type": "code",
      "source": [
        "ytrain[:5].ndim\n",
        "ytrain"
      ],
      "metadata": {
        "colab": {
          "base_uri": "https://localhost:8080/"
        },
        "id": "f-9GaBNfBPE6",
        "outputId": "6bdc5279-e048-4982-acd0-10562375e362"
      },
      "execution_count": 63,
      "outputs": [
        {
          "output_type": "execute_result",
          "data": {
            "text/plain": [
              "array([[6],\n",
              "       [9],\n",
              "       [9],\n",
              "       ...,\n",
              "       [9],\n",
              "       [1],\n",
              "       [1]], dtype=uint8)"
            ]
          },
          "metadata": {},
          "execution_count": 63
        }
      ]
    },
    {
      "cell_type": "code",
      "source": [
        "ytrains=ytrain.reshape(-1,)"
      ],
      "metadata": {
        "id": "mB4lYjMkBSfM"
      },
      "execution_count": 64,
      "outputs": []
    },
    {
      "cell_type": "code",
      "source": [
        "ytrains[:5].ndim\n",
        "ytrains"
      ],
      "metadata": {
        "colab": {
          "base_uri": "https://localhost:8080/"
        },
        "id": "Iimm3CGgBfUu",
        "outputId": "eb1fdf68-69af-49fc-b2c3-3b216ca53b68"
      },
      "execution_count": 65,
      "outputs": [
        {
          "output_type": "execute_result",
          "data": {
            "text/plain": [
              "array([6, 9, 9, ..., 9, 1, 1], dtype=uint8)"
            ]
          },
          "metadata": {},
          "execution_count": 65
        }
      ]
    },
    {
      "cell_type": "code",
      "source": [
        "ytrain.max()"
      ],
      "metadata": {
        "colab": {
          "base_uri": "https://localhost:8080/"
        },
        "id": "V-i6zua8Bghx",
        "outputId": "0de17308-1c72-4d48-f8d2-4bc3ceac6bd9"
      },
      "execution_count": 66,
      "outputs": [
        {
          "output_type": "execute_result",
          "data": {
            "text/plain": [
              "9"
            ]
          },
          "metadata": {},
          "execution_count": 66
        }
      ]
    },
    {
      "cell_type": "code",
      "source": [
        "ytrain"
      ],
      "metadata": {
        "colab": {
          "base_uri": "https://localhost:8080/"
        },
        "id": "nLpLeJErBvjl",
        "outputId": "0aa77734-4bc5-42b9-f581-6bf4cd6b6a3c"
      },
      "execution_count": 67,
      "outputs": [
        {
          "output_type": "execute_result",
          "data": {
            "text/plain": [
              "array([[6],\n",
              "       [9],\n",
              "       [9],\n",
              "       ...,\n",
              "       [9],\n",
              "       [1],\n",
              "       [1]], dtype=uint8)"
            ]
          },
          "metadata": {},
          "execution_count": 67
        }
      ]
    },
    {
      "cell_type": "code",
      "source": [
        "xtrain[:5]\n",
        "xtrain.shape[0]"
      ],
      "metadata": {
        "colab": {
          "base_uri": "https://localhost:8080/"
        },
        "id": "NWmPy4khCGHI",
        "outputId": "be846de2-4d3e-4142-871d-cfde01a85ad9"
      },
      "execution_count": 68,
      "outputs": [
        {
          "output_type": "execute_result",
          "data": {
            "text/plain": [
              "50000"
            ]
          },
          "metadata": {},
          "execution_count": 68
        }
      ]
    },
    {
      "cell_type": "code",
      "source": [
        "xtrain=xtrain/255\n",
        "xtest=xtest/255"
      ],
      "metadata": {
        "id": "IHdzT-72DJFB"
      },
      "execution_count": 69,
      "outputs": []
    },
    {
      "cell_type": "code",
      "source": [
        "from tensorflow.keras.layers import Flatten,Dense\n",
        "from tensorflow.keras.optimizers import Adam\n",
        "from tensorflow.keras.losses import SparseCategoricalCrossentropy\n",
        "from tensorflow.keras.models import Sequential\n",
        "mod=Sequential()\n"
      ],
      "metadata": {
        "id": "pL9dHZkuFrEP"
      },
      "execution_count": 70,
      "outputs": []
    },
    {
      "cell_type": "code",
      "source": [
        "import tensorflow as tf"
      ],
      "metadata": {
        "id": "E9_6xtZtPdZv"
      },
      "execution_count": 71,
      "outputs": []
    },
    {
      "cell_type": "code",
      "source": [
        "print(xtrain.shape)\n"
      ],
      "metadata": {
        "colab": {
          "base_uri": "https://localhost:8080/"
        },
        "id": "5iqaU04GPlNr",
        "outputId": "d393a87c-33b4-427b-eb39-3be27480f074"
      },
      "execution_count": 72,
      "outputs": [
        {
          "output_type": "stream",
          "name": "stdout",
          "text": [
            "(50000, 32, 32, 3)\n"
          ]
        }
      ]
    },
    {
      "cell_type": "code",
      "source": [
        "mod.add(Flatten(input_shape=(xtrain.shape[1:],)))\n",
        "mod.add(Dense(units=300,activation='relu'))\n",
        "mod.add(Dense(units=10,activation='softmax'))"
      ],
      "metadata": {
        "id": "xrvBOXXtGFZN"
      },
      "execution_count": 106,
      "outputs": []
    },
    {
      "cell_type": "code",
      "source": [
        "mod.compile(optimizer='Adam',loss='sparse_categorical_crossentropy',metrics=['accuracy'])"
      ],
      "metadata": {
        "id": "SutIVfvJHJ9O"
      },
      "execution_count": 107,
      "outputs": []
    },
    {
      "cell_type": "code",
      "source": [
        "h=mod.fit(xtrain,ytrain,epochs=40,validation_data=(xtest,ytest))"
      ],
      "metadata": {
        "id": "i1KHS181IAEt",
        "colab": {
          "base_uri": "https://localhost:8080/"
        },
        "outputId": "cdd3cb0d-f890-4b77-eeaf-3ea35f2647b1"
      },
      "execution_count": 109,
      "outputs": [
        {
          "output_type": "stream",
          "name": "stdout",
          "text": [
            "Epoch 1/40\n",
            "1563/1563 [==============================] - 16s 7ms/step - loss: 1.4045 - accuracy: 0.5216 - val_loss: 1.4228 - val_accuracy: 0.5104\n",
            "Epoch 2/40\n",
            "1563/1563 [==============================] - 12s 7ms/step - loss: 1.2901 - accuracy: 0.5501 - val_loss: 1.3638 - val_accuracy: 0.5211\n",
            "Epoch 3/40\n",
            "1563/1563 [==============================] - 12s 7ms/step - loss: 1.2743 - accuracy: 0.5544 - val_loss: 1.3639 - val_accuracy: 0.5311\n",
            "Epoch 4/40\n",
            "1563/1563 [==============================] - 13s 8ms/step - loss: 1.2716 - accuracy: 0.5545 - val_loss: 1.4303 - val_accuracy: 0.4835\n",
            "Epoch 5/40\n",
            "1563/1563 [==============================] - 12s 7ms/step - loss: 1.2702 - accuracy: 0.5566 - val_loss: 1.3776 - val_accuracy: 0.5213\n",
            "Epoch 6/40\n",
            "1563/1563 [==============================] - 12s 7ms/step - loss: 1.2729 - accuracy: 0.5530 - val_loss: 1.3360 - val_accuracy: 0.5293\n",
            "Epoch 7/40\n",
            "1563/1563 [==============================] - 11s 7ms/step - loss: 1.2699 - accuracy: 0.5548 - val_loss: 1.4583 - val_accuracy: 0.4819\n",
            "Epoch 8/40\n",
            "1563/1563 [==============================] - 12s 7ms/step - loss: 1.2646 - accuracy: 0.5582 - val_loss: 1.3369 - val_accuracy: 0.5333\n",
            "Epoch 9/40\n",
            "1563/1563 [==============================] - 13s 8ms/step - loss: 1.2557 - accuracy: 0.5581 - val_loss: 1.3442 - val_accuracy: 0.5300\n",
            "Epoch 10/40\n",
            "1563/1563 [==============================] - 13s 9ms/step - loss: 1.2526 - accuracy: 0.5595 - val_loss: 1.3679 - val_accuracy: 0.5236\n",
            "Epoch 11/40\n",
            "1563/1563 [==============================] - 12s 7ms/step - loss: 1.2554 - accuracy: 0.5579 - val_loss: 1.4792 - val_accuracy: 0.4835\n",
            "Epoch 12/40\n",
            "1563/1563 [==============================] - 11s 7ms/step - loss: 1.2565 - accuracy: 0.5597 - val_loss: 1.3044 - val_accuracy: 0.5458\n",
            "Epoch 13/40\n",
            "1563/1563 [==============================] - 11s 7ms/step - loss: 1.2494 - accuracy: 0.5633 - val_loss: 1.3581 - val_accuracy: 0.5216\n",
            "Epoch 14/40\n",
            "1563/1563 [==============================] - 12s 8ms/step - loss: 1.2531 - accuracy: 0.5599 - val_loss: 1.3295 - val_accuracy: 0.5340\n",
            "Epoch 15/40\n",
            "1563/1563 [==============================] - 11s 7ms/step - loss: 1.2441 - accuracy: 0.5648 - val_loss: 1.3351 - val_accuracy: 0.5303\n",
            "Epoch 16/40\n",
            "1563/1563 [==============================] - 12s 7ms/step - loss: 1.2477 - accuracy: 0.5630 - val_loss: 1.2883 - val_accuracy: 0.5460\n",
            "Epoch 17/40\n",
            "1563/1563 [==============================] - 11s 7ms/step - loss: 1.2501 - accuracy: 0.5610 - val_loss: 1.2840 - val_accuracy: 0.5441\n",
            "Epoch 18/40\n",
            "1563/1563 [==============================] - 11s 7ms/step - loss: 1.2461 - accuracy: 0.5619 - val_loss: 1.3173 - val_accuracy: 0.5371\n",
            "Epoch 19/40\n",
            "1563/1563 [==============================] - 11s 7ms/step - loss: 1.2345 - accuracy: 0.5683 - val_loss: 1.3103 - val_accuracy: 0.5387\n",
            "Epoch 20/40\n",
            "1563/1563 [==============================] - 11s 7ms/step - loss: 1.2454 - accuracy: 0.5627 - val_loss: 1.2600 - val_accuracy: 0.5536\n",
            "Epoch 21/40\n",
            "1563/1563 [==============================] - 11s 7ms/step - loss: 1.2394 - accuracy: 0.5658 - val_loss: 1.2910 - val_accuracy: 0.5484\n",
            "Epoch 22/40\n",
            "1563/1563 [==============================] - 12s 7ms/step - loss: 1.2360 - accuracy: 0.5645 - val_loss: 1.2657 - val_accuracy: 0.5565\n",
            "Epoch 23/40\n",
            "1563/1563 [==============================] - 11s 7ms/step - loss: 1.2339 - accuracy: 0.5643 - val_loss: 1.2578 - val_accuracy: 0.5619\n",
            "Epoch 24/40\n",
            "1563/1563 [==============================] - 11s 7ms/step - loss: 1.2372 - accuracy: 0.5646 - val_loss: 1.3217 - val_accuracy: 0.5318\n",
            "Epoch 25/40\n",
            "1563/1563 [==============================] - 11s 7ms/step - loss: 1.2364 - accuracy: 0.5654 - val_loss: 1.2751 - val_accuracy: 0.5493\n",
            "Epoch 26/40\n",
            "1563/1563 [==============================] - 12s 7ms/step - loss: 1.2346 - accuracy: 0.5690 - val_loss: 1.2674 - val_accuracy: 0.5537\n",
            "Epoch 27/40\n",
            "1563/1563 [==============================] - 11s 7ms/step - loss: 1.2307 - accuracy: 0.5687 - val_loss: 1.2440 - val_accuracy: 0.5653\n",
            "Epoch 28/40\n",
            "1563/1563 [==============================] - 12s 8ms/step - loss: 1.2333 - accuracy: 0.5676 - val_loss: 1.2657 - val_accuracy: 0.5570\n",
            "Epoch 29/40\n",
            "1563/1563 [==============================] - 12s 7ms/step - loss: 1.2372 - accuracy: 0.5649 - val_loss: 1.2536 - val_accuracy: 0.5624\n",
            "Epoch 30/40\n",
            "1563/1563 [==============================] - 12s 8ms/step - loss: 1.2267 - accuracy: 0.5706 - val_loss: 1.2489 - val_accuracy: 0.5639\n",
            "Epoch 31/40\n",
            "1563/1563 [==============================] - 11s 7ms/step - loss: 1.2329 - accuracy: 0.5651 - val_loss: 1.2764 - val_accuracy: 0.5592\n",
            "Epoch 32/40\n",
            "1563/1563 [==============================] - 11s 7ms/step - loss: 1.2314 - accuracy: 0.5661 - val_loss: 1.2781 - val_accuracy: 0.5484\n",
            "Epoch 33/40\n",
            "1563/1563 [==============================] - 11s 7ms/step - loss: 1.2256 - accuracy: 0.5701 - val_loss: 1.2763 - val_accuracy: 0.5505\n",
            "Epoch 34/40\n",
            "1563/1563 [==============================] - 11s 7ms/step - loss: 1.2257 - accuracy: 0.5694 - val_loss: 1.2972 - val_accuracy: 0.5502\n",
            "Epoch 35/40\n",
            "1563/1563 [==============================] - 11s 7ms/step - loss: 1.2237 - accuracy: 0.5674 - val_loss: 1.2918 - val_accuracy: 0.5490\n",
            "Epoch 36/40\n",
            "1563/1563 [==============================] - 12s 7ms/step - loss: 1.2290 - accuracy: 0.5686 - val_loss: 1.2900 - val_accuracy: 0.5397\n",
            "Epoch 37/40\n",
            "1563/1563 [==============================] - 12s 7ms/step - loss: 1.2232 - accuracy: 0.5703 - val_loss: 1.2526 - val_accuracy: 0.5584\n",
            "Epoch 38/40\n",
            "1563/1563 [==============================] - 11s 7ms/step - loss: 1.2231 - accuracy: 0.5680 - val_loss: 1.2461 - val_accuracy: 0.5644\n",
            "Epoch 39/40\n",
            "1563/1563 [==============================] - 12s 7ms/step - loss: 1.2211 - accuracy: 0.5715 - val_loss: 1.2890 - val_accuracy: 0.5483\n",
            "Epoch 40/40\n",
            "1563/1563 [==============================] - 11s 7ms/step - loss: 1.2209 - accuracy: 0.5701 - val_loss: 1.2968 - val_accuracy: 0.5455\n"
          ]
        }
      ]
    },
    {
      "cell_type": "code",
      "source": [
        "h.history"
      ],
      "metadata": {
        "colab": {
          "base_uri": "https://localhost:8080/"
        },
        "id": "tlQZdaXnSa9f",
        "outputId": "c2b2af46-3d19-4add-b887-4bf5adf9e208"
      },
      "execution_count": 87,
      "outputs": [
        {
          "output_type": "execute_result",
          "data": {
            "text/plain": [
              "{'loss': [1.6443556547164917,\n",
              "  1.4501043558120728,\n",
              "  1.4141771793365479,\n",
              "  1.3943164348602295,\n",
              "  1.376090168952942,\n",
              "  1.3726766109466553,\n",
              "  1.3649126291275024,\n",
              "  1.3574765920639038,\n",
              "  1.350394368171692,\n",
              "  1.3462848663330078,\n",
              "  1.3453387022018433,\n",
              "  1.3390076160430908,\n",
              "  1.3357900381088257,\n",
              "  1.3328542709350586,\n",
              "  1.3268346786499023,\n",
              "  1.3179078102111816,\n",
              "  1.317565679550171,\n",
              "  1.3175820112228394,\n",
              "  1.315567970275879,\n",
              "  1.3076692819595337,\n",
              "  1.3075157403945923,\n",
              "  1.3064026832580566,\n",
              "  1.3002715110778809,\n",
              "  1.2993748188018799,\n",
              "  1.2982399463653564,\n",
              "  1.2939343452453613,\n",
              "  1.293580412864685,\n",
              "  1.292412519454956,\n",
              "  1.289167881011963,\n",
              "  1.285140037536621,\n",
              "  1.2832626104354858,\n",
              "  1.2851390838623047,\n",
              "  1.278344988822937,\n",
              "  1.275748372077942,\n",
              "  1.278039813041687,\n",
              "  1.2685794830322266,\n",
              "  1.2685563564300537,\n",
              "  1.2656935453414917,\n",
              "  1.2631434202194214,\n",
              "  1.262569546699524],\n",
              " 'accuracy': [0.41609999537467957,\n",
              "  0.49737998843193054,\n",
              "  0.5047399997711182,\n",
              "  0.5125399827957153,\n",
              "  0.5155799984931946,\n",
              "  0.5166599750518799,\n",
              "  0.5169199705123901,\n",
              "  0.5187199711799622,\n",
              "  0.5219799876213074,\n",
              "  0.5218600034713745,\n",
              "  0.5209000110626221,\n",
              "  0.5249999761581421,\n",
              "  0.5239599943161011,\n",
              "  0.5240799784660339,\n",
              "  0.5251200199127197,\n",
              "  0.5313799977302551,\n",
              "  0.5319799780845642,\n",
              "  0.5308200120925903,\n",
              "  0.5313000082969666,\n",
              "  0.5341600179672241,\n",
              "  0.5360199809074402,\n",
              "  0.5335599780082703,\n",
              "  0.5379800200462341,\n",
              "  0.5373600125312805,\n",
              "  0.5370799899101257,\n",
              "  0.5400800108909607,\n",
              "  0.5389800071716309,\n",
              "  0.5407999753952026,\n",
              "  0.5400199890136719,\n",
              "  0.5404999852180481,\n",
              "  0.5412600040435791,\n",
              "  0.5399399995803833,\n",
              "  0.5431600213050842,\n",
              "  0.544439971446991,\n",
              "  0.5441399812698364,\n",
              "  0.5473399758338928,\n",
              "  0.5464199781417847,\n",
              "  0.5489000082015991,\n",
              "  0.5482400059700012,\n",
              "  0.54830002784729],\n",
              " 'val_loss': [1.5774788856506348,\n",
              "  1.5502392053604126,\n",
              "  1.5526620149612427,\n",
              "  1.5371079444885254,\n",
              "  1.5151602029800415,\n",
              "  1.517339825630188,\n",
              "  1.5068107843399048,\n",
              "  1.5626803636550903,\n",
              "  1.4950717687606812,\n",
              "  1.5302834510803223,\n",
              "  1.5021089315414429,\n",
              "  1.5434085130691528,\n",
              "  1.5556775331497192,\n",
              "  1.489803433418274,\n",
              "  1.488581895828247,\n",
              "  1.5019856691360474,\n",
              "  1.5007952451705933,\n",
              "  1.5395493507385254,\n",
              "  1.5165749788284302,\n",
              "  1.4978283643722534,\n",
              "  1.5325286388397217,\n",
              "  1.4994316101074219,\n",
              "  1.499314308166504,\n",
              "  1.517632007598877,\n",
              "  1.4931564331054688,\n",
              "  1.5054130554199219,\n",
              "  1.503562569618225,\n",
              "  1.5301765203475952,\n",
              "  1.52105712890625,\n",
              "  1.4855962991714478,\n",
              "  1.4995503425598145,\n",
              "  1.5141520500183105,\n",
              "  1.476741075515747,\n",
              "  1.505081057548523,\n",
              "  1.5291191339492798,\n",
              "  1.5144113302230835,\n",
              "  1.5297919511795044,\n",
              "  1.5235011577606201,\n",
              "  1.4959694147109985,\n",
              "  1.5168629884719849],\n",
              " 'val_accuracy': [0.4462999999523163,\n",
              "  0.46129998564720154,\n",
              "  0.45660001039505005,\n",
              "  0.4625999927520752,\n",
              "  0.47130000591278076,\n",
              "  0.4641000032424927,\n",
              "  0.47429999709129333,\n",
              "  0.453900009393692,\n",
              "  0.46959999203681946,\n",
              "  0.4611000120639801,\n",
              "  0.46709999442100525,\n",
              "  0.45010000467300415,\n",
              "  0.4595000147819519,\n",
              "  0.47600001096725464,\n",
              "  0.47369998693466187,\n",
              "  0.47099998593330383,\n",
              "  0.47189998626708984,\n",
              "  0.460099995136261,\n",
              "  0.46709999442100525,\n",
              "  0.4706999957561493,\n",
              "  0.4603999853134155,\n",
              "  0.4691999852657318,\n",
              "  0.46950000524520874,\n",
              "  0.45019999146461487,\n",
              "  0.47040000557899475,\n",
              "  0.4690999984741211,\n",
              "  0.4724000096321106,\n",
              "  0.4641999900341034,\n",
              "  0.46480000019073486,\n",
              "  0.47540000081062317,\n",
              "  0.4745999872684479,\n",
              "  0.4684000015258789,\n",
              "  0.47920000553131104,\n",
              "  0.4758000075817108,\n",
              "  0.47369998693466187,\n",
              "  0.4733000099658966,\n",
              "  0.4659999907016754,\n",
              "  0.4715999960899353,\n",
              "  0.47510001063346863,\n",
              "  0.4749000072479248]}"
            ]
          },
          "metadata": {},
          "execution_count": 87
        }
      ]
    },
    {
      "cell_type": "code",
      "source": [
        "accuracy=h.history['accuracy']\n",
        "val_accuracy=h.history['val_accuracy']\n",
        "epoch=h.epoch\n",
        "plt.plot(epoch,accuracy)\n",
        "plt.plot(epoch,val_accuracy)"
      ],
      "metadata": {
        "id": "MkRNRYiYIGJj",
        "colab": {
          "base_uri": "https://localhost:8080/",
          "height": 448
        },
        "outputId": "814da111-653c-4d19-a850-90f46ef2af9d"
      },
      "execution_count": 110,
      "outputs": [
        {
          "output_type": "execute_result",
          "data": {
            "text/plain": [
              "[<matplotlib.lines.Line2D at 0x7829eb935600>]"
            ]
          },
          "metadata": {},
          "execution_count": 110
        },
        {
          "output_type": "display_data",
          "data": {
            "text/plain": [
              "<Figure size 640x480 with 1 Axes>"
            ],
            "image/png": "[encoded data removed]"
          },
          "metadata": {}
        }
      ]
    },
    {
      "cell_type": "code",
      "source": [
        "loss=h.history['loss']\n",
        "val_loss=h.history['val_loss']\n",
        "plt.plot(epoch,loss)\n",
        "plt.plot(epoch,val_loss)"
      ],
      "metadata": {
        "colab": {
          "base_uri": "https://localhost:8080/",
          "height": 448
        },
        "id": "EFVucvEKQ3w2",
        "outputId": "a348d14e-6aec-427a-b8a9-600d1bbac906"
      },
      "execution_count": 111,
      "outputs": [
        {
          "output_type": "execute_result",
          "data": {
            "text/plain": [
              "[<matplotlib.lines.Line2D at 0x7829eb9ad960>]"
            ]
          },
          "metadata": {},
          "execution_count": 111
        },
        {
          "output_type": "display_data",
          "data": {
            "text/plain": [
              "<Figure size 640x480 with 1 Axes>"
            ],
            "image/png": "[encoded data removed]"
          },
          "metadata": {}
        }
      ]
    },
    {
      "cell_type": "code",
      "source": [
        "k=mod.predict(xtest[:1])"
      ],
      "metadata": {
        "colab": {
          "base_uri": "https://localhost:8080/"
        },
        "id": "kiLM8BLAQ912",
        "outputId": "41879bf8-e7e6-4619-f19f-0e770f64b2e0"
      },
      "execution_count": 115,
      "outputs": [
        {
          "output_type": "stream",
          "name": "stdout",
          "text": [
            "1/1 [==============================] - 0s 39ms/step\n"
          ]
        }
      ]
    },
    {
      "cell_type": "code",
      "source": [],
      "metadata": {
        "id": "QyD10lAhcCjV"
      },
      "execution_count": null,
      "outputs": []
    },
    {
      "cell_type": "code",
      "source": [
        "import numpy as np\n",
        "\n",
        "np.argmax(k)"
      ],
      "metadata": {
        "colab": {
          "base_uri": "https://localhost:8080/"
        },
        "id": "7fRnhsTObilV",
        "outputId": "8a1c36ab-4912-4a38-ff5b-f610f9df43ba"
      },
      "execution_count": 116,
      "outputs": [
        {
          "output_type": "execute_result",
          "data": {
            "text/plain": [
              "8"
            ]
          },
          "metadata": {},
          "execution_count": 116
        }
      ]
    },
    {
      "cell_type": "code",
      "source": [
        "from PIL import Image\n",
        "img='/content/lamborghini-aventador-svj-roadster-sports-car-debut-th-geneva-international-motor-show-switzerland-march-198064869.webp'\n",
        "img=Image.open(img)\n",
        "img=img.resize((32,32))\n",
        "img=np.array(img)/255\n",
        "im=np.expand_dims(img,axis=0)\n",
        "m=mod.predict(im)\n",
        "output=np.argmax(m)"
      ],
      "metadata": {
        "colab": {
          "base_uri": "https://localhost:8080/"
        },
        "id": "p_etmMw0b6Pf",
        "outputId": "ed600d1e-f8d6-41e6-a28a-a44873f98134"
      },
      "execution_count": 130,
      "outputs": [
        {
          "output_type": "stream",
          "name": "stdout",
          "text": [
            "1/1 [==============================] - 0s 18ms/step\n"
          ]
        }
      ]
    },
    {
      "cell_type": "code",
      "source": [
        "classes[output]"
      ],
      "metadata": {
        "colab": {
          "base_uri": "https://localhost:8080/",
          "height": 35
        },
        "id": "GysGJJNadums",
        "outputId": "4afaad37-3815-4d17-d368-0d5de7816ee9"
      },
      "execution_count": 131,
      "outputs": [
        {
          "output_type": "execute_result",
          "data": {
            "text/plain": [
              "'automobile'"
            ],
            "application/vnd.google.colaboratory.intrinsic+json": {
              "type": "string"
            }
          },
          "metadata": {},
          "execution_count": 131
        }
      ]
    },
    {
      "cell_type": "code",
      "source": [
        "mod.save('cifar10model.h5')"
      ],
      "metadata": {
        "colab": {
          "base_uri": "https://localhost:8080/"
        },
        "id": "2IFP59KFe17o",
        "outputId": "10e61948-1a16-4973-f41e-55d69c5f3a84"
      },
      "execution_count": 132,
      "outputs": [
        {
          "output_type": "stream",
          "name": "stderr",
          "text": [
            "/usr/local/lib/python3.10/dist-packages/keras/src/engine/training.py:3103: UserWarning: You are saving your model as an HDF5 file via `model.save()`. This file format is considered legacy. We recommend using instead the native Keras format, e.g. `model.save('my_model.keras')`.\n",
            "  saving_api.save_model(\n"
          ]
        }
      ]
    },
    {
      "cell_type": "code",
      "source": [
        "from tensorflow.keras.models import load_model\n",
        "data=load_model('cifar10model.h5')\n"
      ],
      "metadata": {
        "id": "8orIgmeOgd-5"
      },
      "execution_count": 133,
      "outputs": []
    },
    {
      "cell_type": "code",
      "source": [
        "from PIL import Image\n",
        "img='/content/lamborghini-aventador-svj-roadster-sports-car-debut-th-geneva-international-motor-show-switzerland-march-198064869.webp'\n",
        "img=Image.open(img)\n",
        "img=img.resize((32,32))\n",
        "img=np.array(img)/255\n",
        "im=np.expand_dims(img,axis=0)\n",
        "m=data.predict(im)\n",
        "output=np.argmax(m)\n",
        "classes[output]"
      ],
      "metadata": {
        "colab": {
          "base_uri": "https://localhost:8080/",
          "height": 53
        },
        "id": "Noj3CtNbhrK1",
        "outputId": "6ad711d3-b9b3-4afc-c18d-ee83f8efaedf"
      },
      "execution_count": 135,
      "outputs": [
        {
          "output_type": "stream",
          "name": "stdout",
          "text": [
            "1/1 [==============================] - 0s 17ms/step\n"
          ]
        },
        {
          "output_type": "execute_result",
          "data": {
            "text/plain": [
              "'automobile'"
            ],
            "application/vnd.google.colaboratory.intrinsic+json": {
              "type": "string"
            }
          },
          "metadata": {},
          "execution_count": 135
        }
      ]
    },
    {
      "cell_type": "code",
      "source": [],
      "metadata": {
        "id": "xNCyoSXAh3P7"
      },
      "execution_count": null,
      "outputs": []
    }
  ]
}